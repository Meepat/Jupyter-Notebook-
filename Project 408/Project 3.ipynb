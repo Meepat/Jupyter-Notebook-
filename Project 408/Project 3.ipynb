{
 "cells": [
  {
   "cell_type": "markdown",
   "metadata": {},
   "source": [
    "##  Project 3 - MISY408\n",
    "\n"
   ]
  },
  {
   "cell_type": "markdown",
   "metadata": {},
   "source": [
    "**Load the Data into df dataframe**"
   ]
  },
  {
   "cell_type": "code",
   "execution_count": 1,
   "metadata": {},
   "outputs": [
    {
     "data": {
      "text/html": [
       "<div>\n",
       "<style scoped>\n",
       "    .dataframe tbody tr th:only-of-type {\n",
       "        vertical-align: middle;\n",
       "    }\n",
       "\n",
       "    .dataframe tbody tr th {\n",
       "        vertical-align: top;\n",
       "    }\n",
       "\n",
       "    .dataframe thead th {\n",
       "        text-align: right;\n",
       "    }\n",
       "</style>\n",
       "<table border=\"1\" class=\"dataframe\">\n",
       "  <thead>\n",
       "    <tr style=\"text-align: right;\">\n",
       "      <th></th>\n",
       "      <th>Campaign ID</th>\n",
       "      <th>Date</th>\n",
       "      <th>Cost</th>\n",
       "      <th>SalesforceID</th>\n",
       "      <th>SpecialTraining</th>\n",
       "      <th>SalesforceGender</th>\n",
       "      <th>Last Name</th>\n",
       "      <th>City and State</th>\n",
       "      <th>Work phone number</th>\n",
       "      <th>Score</th>\n",
       "      <th>column1</th>\n",
       "      <th>column2</th>\n",
       "      <th>column3</th>\n",
       "    </tr>\n",
       "  </thead>\n",
       "  <tbody>\n",
       "    <tr>\n",
       "      <th>0</th>\n",
       "      <td>1</td>\n",
       "      <td>11/5/2018</td>\n",
       "      <td>$26,000.00</td>\n",
       "      <td>32.0</td>\n",
       "      <td>No</td>\n",
       "      <td>Male</td>\n",
       "      <td>McCarty</td>\n",
       "      <td>Tampa:FL</td>\n",
       "      <td>573-333-0344</td>\n",
       "      <td>100P</td>\n",
       "      <td>NaN</td>\n",
       "      <td>NaN</td>\n",
       "      <td>NaN</td>\n",
       "    </tr>\n",
       "    <tr>\n",
       "      <th>1</th>\n",
       "      <td>2</td>\n",
       "      <td>11/1/2018</td>\n",
       "      <td>$3,000.00</td>\n",
       "      <td>239.0</td>\n",
       "      <td>Yes</td>\n",
       "      <td>Male</td>\n",
       "      <td>Johnson</td>\n",
       "      <td>Tampa:FL</td>\n",
       "      <td>630-222-2475</td>\n",
       "      <td>100P</td>\n",
       "      <td>NaN</td>\n",
       "      <td>NaN</td>\n",
       "      <td>NaN</td>\n",
       "    </tr>\n",
       "    <tr>\n",
       "      <th>2</th>\n",
       "      <td>3</td>\n",
       "      <td>10/18/2018</td>\n",
       "      <td>$13,000.00</td>\n",
       "      <td>138.0</td>\n",
       "      <td>Yes</td>\n",
       "      <td>Male</td>\n",
       "      <td>Bangs</td>\n",
       "      <td>Tampa:FL</td>\n",
       "      <td>229-444-4962</td>\n",
       "      <td>100P</td>\n",
       "      <td>NaN</td>\n",
       "      <td>NaN</td>\n",
       "      <td>NaN</td>\n",
       "    </tr>\n",
       "    <tr>\n",
       "      <th>3</th>\n",
       "      <td>4</td>\n",
       "      <td>10/1/2018</td>\n",
       "      <td>$59,000.00</td>\n",
       "      <td>221.0</td>\n",
       "      <td>No</td>\n",
       "      <td>Male</td>\n",
       "      <td>Prater</td>\n",
       "      <td>Tampa:FL</td>\n",
       "      <td>740-555-0058</td>\n",
       "      <td>100P</td>\n",
       "      <td>NaN</td>\n",
       "      <td>NaN</td>\n",
       "      <td>NaN</td>\n",
       "    </tr>\n",
       "    <tr>\n",
       "      <th>4</th>\n",
       "      <td>5</td>\n",
       "      <td>6/14/2018</td>\n",
       "      <td>NaN</td>\n",
       "      <td>201.0</td>\n",
       "      <td>No</td>\n",
       "      <td>Male</td>\n",
       "      <td>Pearce</td>\n",
       "      <td>Tampa:FL</td>\n",
       "      <td>510-666-9668</td>\n",
       "      <td>100P</td>\n",
       "      <td>NaN</td>\n",
       "      <td>NaN</td>\n",
       "      <td>NaN</td>\n",
       "    </tr>\n",
       "  </tbody>\n",
       "</table>\n",
       "</div>"
      ],
      "text/plain": [
       "   Campaign ID        Date         Cost  SalesforceID SpecialTraining  \\\n",
       "0            1   11/5/2018  $26,000.00           32.0              No   \n",
       "1            2   11/1/2018   $3,000.00          239.0             Yes   \n",
       "2            3  10/18/2018  $13,000.00          138.0             Yes   \n",
       "3            4   10/1/2018  $59,000.00          221.0              No   \n",
       "4            5   6/14/2018          NaN         201.0              No   \n",
       "\n",
       "  SalesforceGender Last Name City and State Work phone number  Score  column1  \\\n",
       "0             Male   McCarty       Tampa:FL      573-333-0344   100P      NaN   \n",
       "1             Male   Johnson       Tampa:FL      630-222-2475   100P      NaN   \n",
       "2             Male     Bangs       Tampa:FL      229-444-4962   100P      NaN   \n",
       "3             Male    Prater       Tampa:FL      740-555-0058   100P      NaN   \n",
       "4             Male    Pearce       Tampa:FL      510-666-9668   100P      NaN   \n",
       "\n",
       "   column2  column3  \n",
       "0      NaN      NaN  \n",
       "1      NaN      NaN  \n",
       "2      NaN      NaN  \n",
       "3      NaN      NaN  \n",
       "4      NaN      NaN  "
      ]
     },
     "execution_count": 1,
     "metadata": {},
     "output_type": "execute_result"
    }
   ],
   "source": [
    "import pandas as pb\n",
    "\n",
    "df = pb.read_csv('project3data.csv')\n",
    "df.head()"
   ]
  },
  {
   "cell_type": "markdown",
   "metadata": {},
   "source": [
    "**Question 1:**\n",
    "\n",
    "* Display the shape (number of rows and number of columns) of the dataframe"
   ]
  },
  {
   "cell_type": "code",
   "execution_count": 2,
   "metadata": {},
   "outputs": [
    {
     "data": {
      "text/plain": [
       "(309, 13)"
      ]
     },
     "execution_count": 2,
     "metadata": {},
     "output_type": "execute_result"
    }
   ],
   "source": [
    "df.shape"
   ]
  },
  {
   "cell_type": "markdown",
   "metadata": {},
   "source": [
    "* Display the list of columns in the df dataframe"
   ]
  },
  {
   "cell_type": "code",
   "execution_count": 3,
   "metadata": {},
   "outputs": [
    {
     "data": {
      "text/plain": [
       "Index(['Campaign ID', 'Date', 'Cost', 'SalesforceID', 'SpecialTraining',\n",
       "       'SalesforceGender', 'Last Name', 'City and State', 'Work phone number',\n",
       "       'Score', 'column1', 'column2', 'column3'],\n",
       "      dtype='object')"
      ]
     },
     "execution_count": 3,
     "metadata": {},
     "output_type": "execute_result"
    }
   ],
   "source": [
    "df.columns"
   ]
  },
  {
   "cell_type": "markdown",
   "metadata": {},
   "source": [
    "* Create a deep copy of df and save it into df1"
   ]
  },
  {
   "cell_type": "code",
   "execution_count": 4,
   "metadata": {},
   "outputs": [],
   "source": [
    "df1 = df.copy()"
   ]
  },
  {
   "cell_type": "markdown",
   "metadata": {},
   "source": [
    "**Question 2: Remove Leading or Trailing Spaces for all columns**"
   ]
  },
  {
   "cell_type": "code",
   "execution_count": 5,
   "metadata": {},
   "outputs": [],
   "source": [
    "df1.columns = df1.columns.str.strip()"
   ]
  },
  {
   "cell_type": "markdown",
   "metadata": {},
   "source": [
    "**Question 3:**\n",
    "* Drop column1, column2, and column3 from df1 dataftame\n",
    "(Note: Use only one drop method to drop all three columns)"
   ]
  },
  {
   "cell_type": "code",
   "execution_count": 6,
   "metadata": {},
   "outputs": [],
   "source": [
    "df1.drop(['column1','column2','column3'],axis=1,inplace = True)"
   ]
  },
  {
   "cell_type": "markdown",
   "metadata": {},
   "source": [
    "* Display the shape (number of rows and number of columns) of  df1 dataframe"
   ]
  },
  {
   "cell_type": "code",
   "execution_count": 7,
   "metadata": {},
   "outputs": [
    {
     "data": {
      "text/plain": [
       "(309, 10)"
      ]
     },
     "execution_count": 7,
     "metadata": {},
     "output_type": "execute_result"
    }
   ],
   "source": [
    "df1.shape"
   ]
  },
  {
   "cell_type": "markdown",
   "metadata": {},
   "source": [
    "**Question 4: Removing duplicate rows**\n",
    "\n",
    "* Remove Duplicate rows from df1 dataframe"
   ]
  },
  {
   "cell_type": "code",
   "execution_count": 8,
   "metadata": {},
   "outputs": [],
   "source": [
    "df1.drop_duplicates(inplace=True)"
   ]
  },
  {
   "cell_type": "markdown",
   "metadata": {},
   "source": [
    "* Display the shape (number of rows and number of columns) of df1 dataframe"
   ]
  },
  {
   "cell_type": "code",
   "execution_count": 9,
   "metadata": {},
   "outputs": [
    {
     "data": {
      "text/plain": [
       "(306, 10)"
      ]
     },
     "execution_count": 9,
     "metadata": {},
     "output_type": "execute_result"
    }
   ],
   "source": [
    "df1.shape"
   ]
  },
  {
   "cell_type": "markdown",
   "metadata": {},
   "source": [
    "**Question 5: Indentifying and removing missing Values**\n",
    "\n",
    "* Show how many missing values we have in each column in df1 dataframe"
   ]
  },
  {
   "cell_type": "code",
   "execution_count": 10,
   "metadata": {},
   "outputs": [
    {
     "data": {
      "text/plain": [
       "Campaign ID          0\n",
       "Date                 3\n",
       "Cost                 6\n",
       "SalesforceID         1\n",
       "SpecialTraining      7\n",
       "SalesforceGender     5\n",
       "Last Name            9\n",
       "City and State       2\n",
       "Work phone number    2\n",
       "Score                3\n",
       "dtype: int64"
      ]
     },
     "execution_count": 10,
     "metadata": {},
     "output_type": "execute_result"
    }
   ],
   "source": [
    "df1.isnull().sum()"
   ]
  },
  {
   "cell_type": "markdown",
   "metadata": {},
   "source": [
    "* Drop the rows that have missing values in the df1 dataframe"
   ]
  },
  {
   "cell_type": "code",
   "execution_count": 13,
   "metadata": {},
   "outputs": [],
   "source": [
    "df1 = df1.dropna()"
   ]
  },
  {
   "cell_type": "markdown",
   "metadata": {},
   "source": [
    "* Display the shape (number of rows and number of columns) of df1 dataframe"
   ]
  },
  {
   "cell_type": "code",
   "execution_count": 14,
   "metadata": {},
   "outputs": [
    {
     "data": {
      "text/plain": [
       "(271, 10)"
      ]
     },
     "execution_count": 14,
     "metadata": {},
     "output_type": "execute_result"
    }
   ],
   "source": [
    "df1.shape"
   ]
  },
  {
   "cell_type": "markdown",
   "metadata": {},
   "source": [
    "**Question 6: Removing redundant spaces in the middle of String**"
   ]
  },
  {
   "cell_type": "markdown",
   "metadata": {},
   "source": [
    "* Display unique values in 'City and State' column in df1 dataframe"
   ]
  },
  {
   "cell_type": "code",
   "execution_count": 15,
   "metadata": {},
   "outputs": [
    {
     "data": {
      "text/plain": [
       "array(['Tampa:FL', 'Tampa:FI', 'Chicago: IL', 'Chicago: LI', 'Newark:DD',\n",
       "       'Newark:DE'], dtype=object)"
      ]
     },
     "execution_count": 15,
     "metadata": {},
     "output_type": "execute_result"
    }
   ],
   "source": [
    "df1['City and State'].unique()"
   ]
  },
  {
   "cell_type": "markdown",
   "metadata": {},
   "source": [
    "From the above code's output, you noticed that for some values we have space after : and for some values we do not have space after : . You should make sure your data is consistent. Therefore, you should remove that space.\n",
    "\n",
    "* In the following, type a code to remove redundant space in the middle of String in 'State and City' column in df1 dataframe"
   ]
  },
  {
   "cell_type": "code",
   "execution_count": 16,
   "metadata": {},
   "outputs": [],
   "source": [
    "df1['City and State']= df1['City and State'].str.replace(' ', \"\")"
   ]
  },
  {
   "cell_type": "markdown",
   "metadata": {},
   "source": [
    "* Display unique values in 'City and State' column in df1 dataframe to make sure the spaces are removed"
   ]
  },
  {
   "cell_type": "code",
   "execution_count": 18,
   "metadata": {},
   "outputs": [
    {
     "data": {
      "text/plain": [
       "array(['Tampa:FL', 'Tampa:FI', 'Chicago:IL', 'Chicago:LI', 'Newark:DD',\n",
       "       'Newark:DE'], dtype=object)"
      ]
     },
     "execution_count": 18,
     "metadata": {},
     "output_type": "execute_result"
    }
   ],
   "source": [
    "df1['City and State'].unique()"
   ]
  },
  {
   "cell_type": "markdown",
   "metadata": {},
   "source": [
    "**Question 7: Splitting data into two columns**"
   ]
  },
  {
   "cell_type": "markdown",
   "metadata": {},
   "source": [
    "* Split 'City and State' column in df1 dataframe into two columns: City column and State column"
   ]
  },
  {
   "cell_type": "code",
   "execution_count": 19,
   "metadata": {},
   "outputs": [],
   "source": [
    "df1[['City', 'State' ]] = df1['City and State'].str.split(':',expand = True)"
   ]
  },
  {
   "cell_type": "markdown",
   "metadata": {},
   "source": [
    "* Display the first 5 rows of df1 dataframe"
   ]
  },
  {
   "cell_type": "code",
   "execution_count": 20,
   "metadata": {},
   "outputs": [
    {
     "data": {
      "text/html": [
       "<div>\n",
       "<style scoped>\n",
       "    .dataframe tbody tr th:only-of-type {\n",
       "        vertical-align: middle;\n",
       "    }\n",
       "\n",
       "    .dataframe tbody tr th {\n",
       "        vertical-align: top;\n",
       "    }\n",
       "\n",
       "    .dataframe thead th {\n",
       "        text-align: right;\n",
       "    }\n",
       "</style>\n",
       "<table border=\"1\" class=\"dataframe\">\n",
       "  <thead>\n",
       "    <tr style=\"text-align: right;\">\n",
       "      <th></th>\n",
       "      <th>Campaign ID</th>\n",
       "      <th>Date</th>\n",
       "      <th>Cost</th>\n",
       "      <th>SalesforceID</th>\n",
       "      <th>SpecialTraining</th>\n",
       "      <th>SalesforceGender</th>\n",
       "      <th>Last Name</th>\n",
       "      <th>City and State</th>\n",
       "      <th>Work phone number</th>\n",
       "      <th>Score</th>\n",
       "      <th>City</th>\n",
       "      <th>State</th>\n",
       "    </tr>\n",
       "  </thead>\n",
       "  <tbody>\n",
       "    <tr>\n",
       "      <th>0</th>\n",
       "      <td>1</td>\n",
       "      <td>11/5/2018</td>\n",
       "      <td>$26,000.00</td>\n",
       "      <td>32.0</td>\n",
       "      <td>No</td>\n",
       "      <td>Male</td>\n",
       "      <td>McCarty</td>\n",
       "      <td>Tampa:FL</td>\n",
       "      <td>573-333-0344</td>\n",
       "      <td>100P</td>\n",
       "      <td>Tampa</td>\n",
       "      <td>FL</td>\n",
       "    </tr>\n",
       "    <tr>\n",
       "      <th>1</th>\n",
       "      <td>2</td>\n",
       "      <td>11/1/2018</td>\n",
       "      <td>$3,000.00</td>\n",
       "      <td>239.0</td>\n",
       "      <td>Yes</td>\n",
       "      <td>Male</td>\n",
       "      <td>Johnson</td>\n",
       "      <td>Tampa:FL</td>\n",
       "      <td>630-222-2475</td>\n",
       "      <td>100P</td>\n",
       "      <td>Tampa</td>\n",
       "      <td>FL</td>\n",
       "    </tr>\n",
       "    <tr>\n",
       "      <th>2</th>\n",
       "      <td>3</td>\n",
       "      <td>10/18/2018</td>\n",
       "      <td>$13,000.00</td>\n",
       "      <td>138.0</td>\n",
       "      <td>Yes</td>\n",
       "      <td>Male</td>\n",
       "      <td>Bangs</td>\n",
       "      <td>Tampa:FL</td>\n",
       "      <td>229-444-4962</td>\n",
       "      <td>100P</td>\n",
       "      <td>Tampa</td>\n",
       "      <td>FL</td>\n",
       "    </tr>\n",
       "    <tr>\n",
       "      <th>3</th>\n",
       "      <td>4</td>\n",
       "      <td>10/1/2018</td>\n",
       "      <td>$59,000.00</td>\n",
       "      <td>221.0</td>\n",
       "      <td>No</td>\n",
       "      <td>Male</td>\n",
       "      <td>Prater</td>\n",
       "      <td>Tampa:FL</td>\n",
       "      <td>740-555-0058</td>\n",
       "      <td>100P</td>\n",
       "      <td>Tampa</td>\n",
       "      <td>FL</td>\n",
       "    </tr>\n",
       "    <tr>\n",
       "      <th>5</th>\n",
       "      <td>6</td>\n",
       "      <td>6/7/2018</td>\n",
       "      <td>$3,000.00</td>\n",
       "      <td>125.0</td>\n",
       "      <td>Yes</td>\n",
       "      <td>Male</td>\n",
       "      <td>Clark</td>\n",
       "      <td>Tampa:FL</td>\n",
       "      <td>704-777-0613</td>\n",
       "      <td>100P</td>\n",
       "      <td>Tampa</td>\n",
       "      <td>FL</td>\n",
       "    </tr>\n",
       "  </tbody>\n",
       "</table>\n",
       "</div>"
      ],
      "text/plain": [
       "   Campaign ID        Date         Cost  SalesforceID SpecialTraining  \\\n",
       "0            1   11/5/2018  $26,000.00           32.0              No   \n",
       "1            2   11/1/2018   $3,000.00          239.0             Yes   \n",
       "2            3  10/18/2018  $13,000.00          138.0             Yes   \n",
       "3            4   10/1/2018  $59,000.00          221.0              No   \n",
       "5            6    6/7/2018   $3,000.00          125.0             Yes   \n",
       "\n",
       "  SalesforceGender Last Name City and State Work phone number  Score   City  \\\n",
       "0             Male   McCarty       Tampa:FL      573-333-0344   100P  Tampa   \n",
       "1             Male   Johnson       Tampa:FL      630-222-2475   100P  Tampa   \n",
       "2             Male     Bangs       Tampa:FL      229-444-4962   100P  Tampa   \n",
       "3             Male    Prater       Tampa:FL      740-555-0058   100P  Tampa   \n",
       "5             Male     Clark       Tampa:FL      704-777-0613   100P  Tampa   \n",
       "\n",
       "  State  \n",
       "0    FL  \n",
       "1    FL  \n",
       "2    FL  \n",
       "3    FL  \n",
       "5    FL  "
      ]
     },
     "execution_count": 20,
     "metadata": {},
     "output_type": "execute_result"
    }
   ],
   "source": [
    "df1.head()"
   ]
  },
  {
   "cell_type": "markdown",
   "metadata": {},
   "source": [
    "* Drop 'City and State' column from df1 dataframe"
   ]
  },
  {
   "cell_type": "code",
   "execution_count": 21,
   "metadata": {},
   "outputs": [],
   "source": [
    "df1.drop([\"City and State\"], axis=1, inplace=True)"
   ]
  },
  {
   "cell_type": "markdown",
   "metadata": {},
   "source": [
    "* Display the first 5 rows of df1 dataframe"
   ]
  },
  {
   "cell_type": "code",
   "execution_count": 22,
   "metadata": {},
   "outputs": [
    {
     "data": {
      "text/html": [
       "<div>\n",
       "<style scoped>\n",
       "    .dataframe tbody tr th:only-of-type {\n",
       "        vertical-align: middle;\n",
       "    }\n",
       "\n",
       "    .dataframe tbody tr th {\n",
       "        vertical-align: top;\n",
       "    }\n",
       "\n",
       "    .dataframe thead th {\n",
       "        text-align: right;\n",
       "    }\n",
       "</style>\n",
       "<table border=\"1\" class=\"dataframe\">\n",
       "  <thead>\n",
       "    <tr style=\"text-align: right;\">\n",
       "      <th></th>\n",
       "      <th>Campaign ID</th>\n",
       "      <th>Date</th>\n",
       "      <th>Cost</th>\n",
       "      <th>SalesforceID</th>\n",
       "      <th>SpecialTraining</th>\n",
       "      <th>SalesforceGender</th>\n",
       "      <th>Last Name</th>\n",
       "      <th>City and State</th>\n",
       "      <th>Work phone number</th>\n",
       "      <th>Score</th>\n",
       "      <th>column1</th>\n",
       "      <th>column2</th>\n",
       "      <th>column3</th>\n",
       "    </tr>\n",
       "  </thead>\n",
       "  <tbody>\n",
       "    <tr>\n",
       "      <th>0</th>\n",
       "      <td>1</td>\n",
       "      <td>11/5/2018</td>\n",
       "      <td>$26,000.00</td>\n",
       "      <td>32.0</td>\n",
       "      <td>No</td>\n",
       "      <td>Male</td>\n",
       "      <td>McCarty</td>\n",
       "      <td>Tampa:FL</td>\n",
       "      <td>573-333-0344</td>\n",
       "      <td>100P</td>\n",
       "      <td>NaN</td>\n",
       "      <td>NaN</td>\n",
       "      <td>NaN</td>\n",
       "    </tr>\n",
       "    <tr>\n",
       "      <th>1</th>\n",
       "      <td>2</td>\n",
       "      <td>11/1/2018</td>\n",
       "      <td>$3,000.00</td>\n",
       "      <td>239.0</td>\n",
       "      <td>Yes</td>\n",
       "      <td>Male</td>\n",
       "      <td>Johnson</td>\n",
       "      <td>Tampa:FL</td>\n",
       "      <td>630-222-2475</td>\n",
       "      <td>100P</td>\n",
       "      <td>NaN</td>\n",
       "      <td>NaN</td>\n",
       "      <td>NaN</td>\n",
       "    </tr>\n",
       "    <tr>\n",
       "      <th>2</th>\n",
       "      <td>3</td>\n",
       "      <td>10/18/2018</td>\n",
       "      <td>$13,000.00</td>\n",
       "      <td>138.0</td>\n",
       "      <td>Yes</td>\n",
       "      <td>Male</td>\n",
       "      <td>Bangs</td>\n",
       "      <td>Tampa:FL</td>\n",
       "      <td>229-444-4962</td>\n",
       "      <td>100P</td>\n",
       "      <td>NaN</td>\n",
       "      <td>NaN</td>\n",
       "      <td>NaN</td>\n",
       "    </tr>\n",
       "    <tr>\n",
       "      <th>3</th>\n",
       "      <td>4</td>\n",
       "      <td>10/1/2018</td>\n",
       "      <td>$59,000.00</td>\n",
       "      <td>221.0</td>\n",
       "      <td>No</td>\n",
       "      <td>Male</td>\n",
       "      <td>Prater</td>\n",
       "      <td>Tampa:FL</td>\n",
       "      <td>740-555-0058</td>\n",
       "      <td>100P</td>\n",
       "      <td>NaN</td>\n",
       "      <td>NaN</td>\n",
       "      <td>NaN</td>\n",
       "    </tr>\n",
       "    <tr>\n",
       "      <th>4</th>\n",
       "      <td>5</td>\n",
       "      <td>6/14/2018</td>\n",
       "      <td>NaN</td>\n",
       "      <td>201.0</td>\n",
       "      <td>No</td>\n",
       "      <td>Male</td>\n",
       "      <td>Pearce</td>\n",
       "      <td>Tampa:FL</td>\n",
       "      <td>510-666-9668</td>\n",
       "      <td>100P</td>\n",
       "      <td>NaN</td>\n",
       "      <td>NaN</td>\n",
       "      <td>NaN</td>\n",
       "    </tr>\n",
       "  </tbody>\n",
       "</table>\n",
       "</div>"
      ],
      "text/plain": [
       "   Campaign ID        Date         Cost  SalesforceID SpecialTraining  \\\n",
       "0            1   11/5/2018  $26,000.00           32.0              No   \n",
       "1            2   11/1/2018   $3,000.00          239.0             Yes   \n",
       "2            3  10/18/2018  $13,000.00          138.0             Yes   \n",
       "3            4   10/1/2018  $59,000.00          221.0              No   \n",
       "4            5   6/14/2018          NaN         201.0              No   \n",
       "\n",
       "  SalesforceGender Last Name City and State Work phone number  Score  column1  \\\n",
       "0             Male   McCarty       Tampa:FL      573-333-0344   100P      NaN   \n",
       "1             Male   Johnson       Tampa:FL      630-222-2475   100P      NaN   \n",
       "2             Male     Bangs       Tampa:FL      229-444-4962   100P      NaN   \n",
       "3             Male    Prater       Tampa:FL      740-555-0058   100P      NaN   \n",
       "4             Male    Pearce       Tampa:FL      510-666-9668   100P      NaN   \n",
       "\n",
       "   column2  column3  \n",
       "0      NaN      NaN  \n",
       "1      NaN      NaN  \n",
       "2      NaN      NaN  \n",
       "3      NaN      NaN  \n",
       "4      NaN      NaN  "
      ]
     },
     "execution_count": 22,
     "metadata": {},
     "output_type": "execute_result"
    }
   ],
   "source": [
    "df.head()"
   ]
  },
  {
   "cell_type": "markdown",
   "metadata": {},
   "source": [
    "**Question 8: Fixing the SalesforceGender Column**"
   ]
  },
  {
   "cell_type": "markdown",
   "metadata": {},
   "source": [
    "* Show unique values in SalesforceGender column in df1 dataframe"
   ]
  },
  {
   "cell_type": "code",
   "execution_count": 23,
   "metadata": {},
   "outputs": [
    {
     "data": {
      "text/plain": [
       "array(['Male', 'M', 'Female', 'F'], dtype=object)"
      ]
     },
     "execution_count": 23,
     "metadata": {},
     "output_type": "execute_result"
    }
   ],
   "source": [
    "df1['SalesforceGender'].unique()"
   ]
  },
  {
   "cell_type": "markdown",
   "metadata": {},
   "source": [
    "* Create a new column 'FixedSalesforceGender' in df1 datafarme that:\n",
    "    * Sets any Male, or M values to M\n",
    "    * Sets any Female, or F values to F"
   ]
  },
  {
   "cell_type": "code",
   "execution_count": 24,
   "metadata": {},
   "outputs": [],
   "source": [
    "df1.loc[(df1['SalesforceGender'] == 'Male') |  (df1['SalesforceGender'] == 'M'),'FixedSalesforceGender'] = \"M\"\n",
    "df1.loc[(df1['SalesforceGender'] == 'Female') |  (df1['SalesforceGender'] == 'F'),'FixedSalesforceGender'] = \"F\""
   ]
  },
  {
   "cell_type": "markdown",
   "metadata": {},
   "source": [
    "* Display the first 5 rows of df1 dataframe"
   ]
  },
  {
   "cell_type": "code",
   "execution_count": 25,
   "metadata": {},
   "outputs": [
    {
     "data": {
      "text/html": [
       "<div>\n",
       "<style scoped>\n",
       "    .dataframe tbody tr th:only-of-type {\n",
       "        vertical-align: middle;\n",
       "    }\n",
       "\n",
       "    .dataframe tbody tr th {\n",
       "        vertical-align: top;\n",
       "    }\n",
       "\n",
       "    .dataframe thead th {\n",
       "        text-align: right;\n",
       "    }\n",
       "</style>\n",
       "<table border=\"1\" class=\"dataframe\">\n",
       "  <thead>\n",
       "    <tr style=\"text-align: right;\">\n",
       "      <th></th>\n",
       "      <th>Campaign ID</th>\n",
       "      <th>Date</th>\n",
       "      <th>Cost</th>\n",
       "      <th>SalesforceID</th>\n",
       "      <th>SpecialTraining</th>\n",
       "      <th>SalesforceGender</th>\n",
       "      <th>Last Name</th>\n",
       "      <th>Work phone number</th>\n",
       "      <th>Score</th>\n",
       "      <th>City</th>\n",
       "      <th>State</th>\n",
       "      <th>FixedSalesforceGender</th>\n",
       "    </tr>\n",
       "  </thead>\n",
       "  <tbody>\n",
       "    <tr>\n",
       "      <th>0</th>\n",
       "      <td>1</td>\n",
       "      <td>11/5/2018</td>\n",
       "      <td>$26,000.00</td>\n",
       "      <td>32.0</td>\n",
       "      <td>No</td>\n",
       "      <td>Male</td>\n",
       "      <td>McCarty</td>\n",
       "      <td>573-333-0344</td>\n",
       "      <td>100P</td>\n",
       "      <td>Tampa</td>\n",
       "      <td>FL</td>\n",
       "      <td>M</td>\n",
       "    </tr>\n",
       "    <tr>\n",
       "      <th>1</th>\n",
       "      <td>2</td>\n",
       "      <td>11/1/2018</td>\n",
       "      <td>$3,000.00</td>\n",
       "      <td>239.0</td>\n",
       "      <td>Yes</td>\n",
       "      <td>Male</td>\n",
       "      <td>Johnson</td>\n",
       "      <td>630-222-2475</td>\n",
       "      <td>100P</td>\n",
       "      <td>Tampa</td>\n",
       "      <td>FL</td>\n",
       "      <td>M</td>\n",
       "    </tr>\n",
       "    <tr>\n",
       "      <th>2</th>\n",
       "      <td>3</td>\n",
       "      <td>10/18/2018</td>\n",
       "      <td>$13,000.00</td>\n",
       "      <td>138.0</td>\n",
       "      <td>Yes</td>\n",
       "      <td>Male</td>\n",
       "      <td>Bangs</td>\n",
       "      <td>229-444-4962</td>\n",
       "      <td>100P</td>\n",
       "      <td>Tampa</td>\n",
       "      <td>FL</td>\n",
       "      <td>M</td>\n",
       "    </tr>\n",
       "    <tr>\n",
       "      <th>3</th>\n",
       "      <td>4</td>\n",
       "      <td>10/1/2018</td>\n",
       "      <td>$59,000.00</td>\n",
       "      <td>221.0</td>\n",
       "      <td>No</td>\n",
       "      <td>Male</td>\n",
       "      <td>Prater</td>\n",
       "      <td>740-555-0058</td>\n",
       "      <td>100P</td>\n",
       "      <td>Tampa</td>\n",
       "      <td>FL</td>\n",
       "      <td>M</td>\n",
       "    </tr>\n",
       "    <tr>\n",
       "      <th>5</th>\n",
       "      <td>6</td>\n",
       "      <td>6/7/2018</td>\n",
       "      <td>$3,000.00</td>\n",
       "      <td>125.0</td>\n",
       "      <td>Yes</td>\n",
       "      <td>Male</td>\n",
       "      <td>Clark</td>\n",
       "      <td>704-777-0613</td>\n",
       "      <td>100P</td>\n",
       "      <td>Tampa</td>\n",
       "      <td>FL</td>\n",
       "      <td>M</td>\n",
       "    </tr>\n",
       "  </tbody>\n",
       "</table>\n",
       "</div>"
      ],
      "text/plain": [
       "   Campaign ID        Date         Cost  SalesforceID SpecialTraining  \\\n",
       "0            1   11/5/2018  $26,000.00           32.0              No   \n",
       "1            2   11/1/2018   $3,000.00          239.0             Yes   \n",
       "2            3  10/18/2018  $13,000.00          138.0             Yes   \n",
       "3            4   10/1/2018  $59,000.00          221.0              No   \n",
       "5            6    6/7/2018   $3,000.00          125.0             Yes   \n",
       "\n",
       "  SalesforceGender Last Name Work phone number  Score   City State  \\\n",
       "0             Male   McCarty      573-333-0344   100P  Tampa    FL   \n",
       "1             Male   Johnson      630-222-2475   100P  Tampa    FL   \n",
       "2             Male     Bangs      229-444-4962   100P  Tampa    FL   \n",
       "3             Male    Prater      740-555-0058   100P  Tampa    FL   \n",
       "5             Male     Clark      704-777-0613   100P  Tampa    FL   \n",
       "\n",
       "  FixedSalesforceGender  \n",
       "0                     M  \n",
       "1                     M  \n",
       "2                     M  \n",
       "3                     M  \n",
       "5                     M  "
      ]
     },
     "execution_count": 25,
     "metadata": {},
     "output_type": "execute_result"
    }
   ],
   "source": [
    "df1.head()"
   ]
  },
  {
   "cell_type": "markdown",
   "metadata": {},
   "source": [
    "* Create the frequency table for 'FixedSalesforceGender' using value_counts()"
   ]
  },
  {
   "cell_type": "code",
   "execution_count": 26,
   "metadata": {},
   "outputs": [
    {
     "data": {
      "text/plain": [
       "M    259\n",
       "F     12\n",
       "Name: FixedSalesforceGender, dtype: int64"
      ]
     },
     "execution_count": 26,
     "metadata": {},
     "output_type": "execute_result"
    }
   ],
   "source": [
    "df1['FixedSalesforceGender'].value_counts()"
   ]
  },
  {
   "cell_type": "markdown",
   "metadata": {},
   "source": [
    "* Drop SalesforceGender column from df1 dataframe"
   ]
  },
  {
   "cell_type": "code",
   "execution_count": 27,
   "metadata": {},
   "outputs": [],
   "source": [
    "df1.drop(['SalesforceGender'], axis=1, inplace=True)"
   ]
  },
  {
   "cell_type": "markdown",
   "metadata": {},
   "source": [
    "* Display the first 5 rows of df1 dataframe"
   ]
  },
  {
   "cell_type": "code",
   "execution_count": 28,
   "metadata": {},
   "outputs": [
    {
     "data": {
      "text/html": [
       "<div>\n",
       "<style scoped>\n",
       "    .dataframe tbody tr th:only-of-type {\n",
       "        vertical-align: middle;\n",
       "    }\n",
       "\n",
       "    .dataframe tbody tr th {\n",
       "        vertical-align: top;\n",
       "    }\n",
       "\n",
       "    .dataframe thead th {\n",
       "        text-align: right;\n",
       "    }\n",
       "</style>\n",
       "<table border=\"1\" class=\"dataframe\">\n",
       "  <thead>\n",
       "    <tr style=\"text-align: right;\">\n",
       "      <th></th>\n",
       "      <th>Campaign ID</th>\n",
       "      <th>Date</th>\n",
       "      <th>Cost</th>\n",
       "      <th>SalesforceID</th>\n",
       "      <th>SpecialTraining</th>\n",
       "      <th>Last Name</th>\n",
       "      <th>Work phone number</th>\n",
       "      <th>Score</th>\n",
       "      <th>City</th>\n",
       "      <th>State</th>\n",
       "      <th>FixedSalesforceGender</th>\n",
       "    </tr>\n",
       "  </thead>\n",
       "  <tbody>\n",
       "    <tr>\n",
       "      <th>0</th>\n",
       "      <td>1</td>\n",
       "      <td>11/5/2018</td>\n",
       "      <td>$26,000.00</td>\n",
       "      <td>32.0</td>\n",
       "      <td>No</td>\n",
       "      <td>McCarty</td>\n",
       "      <td>573-333-0344</td>\n",
       "      <td>100P</td>\n",
       "      <td>Tampa</td>\n",
       "      <td>FL</td>\n",
       "      <td>M</td>\n",
       "    </tr>\n",
       "    <tr>\n",
       "      <th>1</th>\n",
       "      <td>2</td>\n",
       "      <td>11/1/2018</td>\n",
       "      <td>$3,000.00</td>\n",
       "      <td>239.0</td>\n",
       "      <td>Yes</td>\n",
       "      <td>Johnson</td>\n",
       "      <td>630-222-2475</td>\n",
       "      <td>100P</td>\n",
       "      <td>Tampa</td>\n",
       "      <td>FL</td>\n",
       "      <td>M</td>\n",
       "    </tr>\n",
       "    <tr>\n",
       "      <th>2</th>\n",
       "      <td>3</td>\n",
       "      <td>10/18/2018</td>\n",
       "      <td>$13,000.00</td>\n",
       "      <td>138.0</td>\n",
       "      <td>Yes</td>\n",
       "      <td>Bangs</td>\n",
       "      <td>229-444-4962</td>\n",
       "      <td>100P</td>\n",
       "      <td>Tampa</td>\n",
       "      <td>FL</td>\n",
       "      <td>M</td>\n",
       "    </tr>\n",
       "    <tr>\n",
       "      <th>3</th>\n",
       "      <td>4</td>\n",
       "      <td>10/1/2018</td>\n",
       "      <td>$59,000.00</td>\n",
       "      <td>221.0</td>\n",
       "      <td>No</td>\n",
       "      <td>Prater</td>\n",
       "      <td>740-555-0058</td>\n",
       "      <td>100P</td>\n",
       "      <td>Tampa</td>\n",
       "      <td>FL</td>\n",
       "      <td>M</td>\n",
       "    </tr>\n",
       "    <tr>\n",
       "      <th>5</th>\n",
       "      <td>6</td>\n",
       "      <td>6/7/2018</td>\n",
       "      <td>$3,000.00</td>\n",
       "      <td>125.0</td>\n",
       "      <td>Yes</td>\n",
       "      <td>Clark</td>\n",
       "      <td>704-777-0613</td>\n",
       "      <td>100P</td>\n",
       "      <td>Tampa</td>\n",
       "      <td>FL</td>\n",
       "      <td>M</td>\n",
       "    </tr>\n",
       "  </tbody>\n",
       "</table>\n",
       "</div>"
      ],
      "text/plain": [
       "   Campaign ID        Date         Cost  SalesforceID SpecialTraining  \\\n",
       "0            1   11/5/2018  $26,000.00           32.0              No   \n",
       "1            2   11/1/2018   $3,000.00          239.0             Yes   \n",
       "2            3  10/18/2018  $13,000.00          138.0             Yes   \n",
       "3            4   10/1/2018  $59,000.00          221.0              No   \n",
       "5            6    6/7/2018   $3,000.00          125.0             Yes   \n",
       "\n",
       "  Last Name Work phone number  Score   City State FixedSalesforceGender  \n",
       "0   McCarty      573-333-0344   100P  Tampa    FL                     M  \n",
       "1   Johnson      630-222-2475   100P  Tampa    FL                     M  \n",
       "2     Bangs      229-444-4962   100P  Tampa    FL                     M  \n",
       "3    Prater      740-555-0058   100P  Tampa    FL                     M  \n",
       "5     Clark      704-777-0613   100P  Tampa    FL                     M  "
      ]
     },
     "execution_count": 28,
     "metadata": {},
     "output_type": "execute_result"
    }
   ],
   "source": [
    "df1.head()"
   ]
  },
  {
   "cell_type": "markdown",
   "metadata": {},
   "source": [
    "**Question 9: Extracting Numeric Data from Text**"
   ]
  },
  {
   "cell_type": "markdown",
   "metadata": {},
   "source": [
    "* Replace Score column's value in df1 dataframe with the numeric part and convert it to integer\n",
    "   * For example we replace 100P  with 100"
   ]
  },
  {
   "cell_type": "code",
   "execution_count": 29,
   "metadata": {},
   "outputs": [
    {
     "data": {
      "text/plain": [
       "array([100,  98,  88,  83,  73,  70])"
      ]
     },
     "execution_count": 29,
     "metadata": {},
     "output_type": "execute_result"
    }
   ],
   "source": [
    "df1['Score'] = df1['Score'].str.extract('(\\d+)').astype(int)\n",
    "df1['Score'].unique()"
   ]
  },
  {
   "cell_type": "markdown",
   "metadata": {},
   "source": [
    "* Claulate the average Score"
   ]
  },
  {
   "cell_type": "code",
   "execution_count": 30,
   "metadata": {},
   "outputs": [
    {
     "data": {
      "text/plain": [
       "89.07380073800738"
      ]
     },
     "execution_count": 30,
     "metadata": {},
     "output_type": "execute_result"
    }
   ],
   "source": [
    "df1['Score'].mean()"
   ]
  },
  {
   "cell_type": "markdown",
   "metadata": {},
   "source": [
    "**Question 10: Ensuring Data make sense and replacing it with valid values if needed**\n",
    "* Read in the states.csv file into  dataframe called states. "
   ]
  },
  {
   "cell_type": "code",
   "execution_count": 32,
   "metadata": {},
   "outputs": [
    {
     "data": {
      "text/html": [
       "<div>\n",
       "<style scoped>\n",
       "    .dataframe tbody tr th:only-of-type {\n",
       "        vertical-align: middle;\n",
       "    }\n",
       "\n",
       "    .dataframe tbody tr th {\n",
       "        vertical-align: top;\n",
       "    }\n",
       "\n",
       "    .dataframe thead th {\n",
       "        text-align: right;\n",
       "    }\n",
       "</style>\n",
       "<table border=\"1\" class=\"dataframe\">\n",
       "  <thead>\n",
       "    <tr style=\"text-align: right;\">\n",
       "      <th></th>\n",
       "      <th>STATE</th>\n",
       "      <th>ABBREV</th>\n",
       "    </tr>\n",
       "  </thead>\n",
       "  <tbody>\n",
       "    <tr>\n",
       "      <th>0</th>\n",
       "      <td>Alabama</td>\n",
       "      <td>AL</td>\n",
       "    </tr>\n",
       "    <tr>\n",
       "      <th>1</th>\n",
       "      <td>Alaska</td>\n",
       "      <td>AK</td>\n",
       "    </tr>\n",
       "    <tr>\n",
       "      <th>2</th>\n",
       "      <td>Arizona</td>\n",
       "      <td>AZ</td>\n",
       "    </tr>\n",
       "    <tr>\n",
       "      <th>3</th>\n",
       "      <td>Arkansas</td>\n",
       "      <td>AR</td>\n",
       "    </tr>\n",
       "    <tr>\n",
       "      <th>4</th>\n",
       "      <td>California</td>\n",
       "      <td>CA</td>\n",
       "    </tr>\n",
       "  </tbody>\n",
       "</table>\n",
       "</div>"
      ],
      "text/plain": [
       "        STATE ABBREV\n",
       "0     Alabama     AL\n",
       "1      Alaska     AK\n",
       "2     Arizona     AZ\n",
       "3    Arkansas     AR\n",
       "4  California     CA"
      ]
     },
     "execution_count": 32,
     "metadata": {},
     "output_type": "execute_result"
    }
   ],
   "source": [
    "states = pb.read_csv('states.csv')\n",
    "states.head()"
   ]
  },
  {
   "cell_type": "markdown",
   "metadata": {},
   "source": [
    "* Use .loc and isin method to create a new column called ValidStatesCode. If the state in the df1 dataframe is valid, the value for ValidStateCode will be 1.  If the state in the df1 dataframe is invalid, the value for ValidStateCode will be 0"
   ]
  },
  {
   "cell_type": "code",
   "execution_count": 33,
   "metadata": {},
   "outputs": [],
   "source": [
    "df1['ValidStatesCode'] = 0\n",
    "df1.loc[df1['State'].isin(states['ABBREV']),'ValidStatesCode'] = 1"
   ]
  },
  {
   "cell_type": "markdown",
   "metadata": {},
   "source": [
    "* Create a frequency table to display the number of valid states and the number of invalid states "
   ]
  },
  {
   "cell_type": "code",
   "execution_count": 34,
   "metadata": {},
   "outputs": [
    {
     "data": {
      "text/plain": [
       "1    266\n",
       "0      5\n",
       "Name: ValidStatesCode, dtype: int64"
      ]
     },
     "execution_count": 34,
     "metadata": {},
     "output_type": "execute_result"
    }
   ],
   "source": [
    "df1['ValidStatesCode'].value_counts()"
   ]
  },
  {
   "cell_type": "markdown",
   "metadata": {},
   "source": [
    "* Subset the df1 dataframe to show State column and ValidStatesCode column for which ValidStatesCode's value is 0."
   ]
  },
  {
   "cell_type": "code",
   "execution_count": 36,
   "metadata": {},
   "outputs": [
    {
     "data": {
      "text/html": [
       "<div>\n",
       "<style scoped>\n",
       "    .dataframe tbody tr th:only-of-type {\n",
       "        vertical-align: middle;\n",
       "    }\n",
       "\n",
       "    .dataframe tbody tr th {\n",
       "        vertical-align: top;\n",
       "    }\n",
       "\n",
       "    .dataframe thead th {\n",
       "        text-align: right;\n",
       "    }\n",
       "</style>\n",
       "<table border=\"1\" class=\"dataframe\">\n",
       "  <thead>\n",
       "    <tr style=\"text-align: right;\">\n",
       "      <th></th>\n",
       "      <th>State</th>\n",
       "      <th>ValidStatesCode</th>\n",
       "    </tr>\n",
       "  </thead>\n",
       "  <tbody>\n",
       "    <tr>\n",
       "      <th>77</th>\n",
       "      <td>FI</td>\n",
       "      <td>0</td>\n",
       "    </tr>\n",
       "    <tr>\n",
       "      <th>255</th>\n",
       "      <td>LI</td>\n",
       "      <td>0</td>\n",
       "    </tr>\n",
       "    <tr>\n",
       "      <th>260</th>\n",
       "      <td>LI</td>\n",
       "      <td>0</td>\n",
       "    </tr>\n",
       "    <tr>\n",
       "      <th>293</th>\n",
       "      <td>DD</td>\n",
       "      <td>0</td>\n",
       "    </tr>\n",
       "    <tr>\n",
       "      <th>300</th>\n",
       "      <td>DD</td>\n",
       "      <td>0</td>\n",
       "    </tr>\n",
       "  </tbody>\n",
       "</table>\n",
       "</div>"
      ],
      "text/plain": [
       "    State  ValidStatesCode\n",
       "77     FI                0\n",
       "255    LI                0\n",
       "260    LI                0\n",
       "293    DD                0\n",
       "300    DD                0"
      ]
     },
     "execution_count": 36,
     "metadata": {},
     "output_type": "execute_result"
    }
   ],
   "source": [
    "df1[['State','ValidStatesCode']].loc[df1['ValidStatesCode'] == 0]"
   ]
  },
  {
   "cell_type": "markdown",
   "metadata": {},
   "source": [
    "* In the following type three codes using .loc method to replace FI with FL, replace LI and IL,and replace DD with DE in the State column."
   ]
  },
  {
   "cell_type": "code",
   "execution_count": 37,
   "metadata": {},
   "outputs": [],
   "source": [
    "df1.loc[df1['State']=='FI','State']='FL'\n",
    "df1.loc[df1['State']=='LI','State']='IL'\n",
    "df1.loc[df1['State']=='DD','State']='DE'"
   ]
  },
  {
   "cell_type": "markdown",
   "metadata": {},
   "source": [
    "* Display the first five rows of df1 dataframe"
   ]
  },
  {
   "cell_type": "code",
   "execution_count": 38,
   "metadata": {},
   "outputs": [
    {
     "data": {
      "text/html": [
       "<div>\n",
       "<style scoped>\n",
       "    .dataframe tbody tr th:only-of-type {\n",
       "        vertical-align: middle;\n",
       "    }\n",
       "\n",
       "    .dataframe tbody tr th {\n",
       "        vertical-align: top;\n",
       "    }\n",
       "\n",
       "    .dataframe thead th {\n",
       "        text-align: right;\n",
       "    }\n",
       "</style>\n",
       "<table border=\"1\" class=\"dataframe\">\n",
       "  <thead>\n",
       "    <tr style=\"text-align: right;\">\n",
       "      <th></th>\n",
       "      <th>Campaign ID</th>\n",
       "      <th>Date</th>\n",
       "      <th>Cost</th>\n",
       "      <th>SalesforceID</th>\n",
       "      <th>SpecialTraining</th>\n",
       "      <th>Last Name</th>\n",
       "      <th>Work phone number</th>\n",
       "      <th>Score</th>\n",
       "      <th>City</th>\n",
       "      <th>State</th>\n",
       "      <th>FixedSalesforceGender</th>\n",
       "      <th>ValidStatesCode</th>\n",
       "    </tr>\n",
       "  </thead>\n",
       "  <tbody>\n",
       "    <tr>\n",
       "      <th>0</th>\n",
       "      <td>1</td>\n",
       "      <td>11/5/2018</td>\n",
       "      <td>$26,000.00</td>\n",
       "      <td>32.0</td>\n",
       "      <td>No</td>\n",
       "      <td>McCarty</td>\n",
       "      <td>573-333-0344</td>\n",
       "      <td>100</td>\n",
       "      <td>Tampa</td>\n",
       "      <td>FL</td>\n",
       "      <td>M</td>\n",
       "      <td>1</td>\n",
       "    </tr>\n",
       "    <tr>\n",
       "      <th>1</th>\n",
       "      <td>2</td>\n",
       "      <td>11/1/2018</td>\n",
       "      <td>$3,000.00</td>\n",
       "      <td>239.0</td>\n",
       "      <td>Yes</td>\n",
       "      <td>Johnson</td>\n",
       "      <td>630-222-2475</td>\n",
       "      <td>100</td>\n",
       "      <td>Tampa</td>\n",
       "      <td>FL</td>\n",
       "      <td>M</td>\n",
       "      <td>1</td>\n",
       "    </tr>\n",
       "    <tr>\n",
       "      <th>2</th>\n",
       "      <td>3</td>\n",
       "      <td>10/18/2018</td>\n",
       "      <td>$13,000.00</td>\n",
       "      <td>138.0</td>\n",
       "      <td>Yes</td>\n",
       "      <td>Bangs</td>\n",
       "      <td>229-444-4962</td>\n",
       "      <td>100</td>\n",
       "      <td>Tampa</td>\n",
       "      <td>FL</td>\n",
       "      <td>M</td>\n",
       "      <td>1</td>\n",
       "    </tr>\n",
       "    <tr>\n",
       "      <th>3</th>\n",
       "      <td>4</td>\n",
       "      <td>10/1/2018</td>\n",
       "      <td>$59,000.00</td>\n",
       "      <td>221.0</td>\n",
       "      <td>No</td>\n",
       "      <td>Prater</td>\n",
       "      <td>740-555-0058</td>\n",
       "      <td>100</td>\n",
       "      <td>Tampa</td>\n",
       "      <td>FL</td>\n",
       "      <td>M</td>\n",
       "      <td>1</td>\n",
       "    </tr>\n",
       "    <tr>\n",
       "      <th>5</th>\n",
       "      <td>6</td>\n",
       "      <td>6/7/2018</td>\n",
       "      <td>$3,000.00</td>\n",
       "      <td>125.0</td>\n",
       "      <td>Yes</td>\n",
       "      <td>Clark</td>\n",
       "      <td>704-777-0613</td>\n",
       "      <td>100</td>\n",
       "      <td>Tampa</td>\n",
       "      <td>FL</td>\n",
       "      <td>M</td>\n",
       "      <td>1</td>\n",
       "    </tr>\n",
       "  </tbody>\n",
       "</table>\n",
       "</div>"
      ],
      "text/plain": [
       "   Campaign ID        Date         Cost  SalesforceID SpecialTraining  \\\n",
       "0            1   11/5/2018  $26,000.00           32.0              No   \n",
       "1            2   11/1/2018   $3,000.00          239.0             Yes   \n",
       "2            3  10/18/2018  $13,000.00          138.0             Yes   \n",
       "3            4   10/1/2018  $59,000.00          221.0              No   \n",
       "5            6    6/7/2018   $3,000.00          125.0             Yes   \n",
       "\n",
       "  Last Name Work phone number  Score   City State FixedSalesforceGender  \\\n",
       "0   McCarty      573-333-0344    100  Tampa    FL                     M   \n",
       "1   Johnson      630-222-2475    100  Tampa    FL                     M   \n",
       "2     Bangs      229-444-4962    100  Tampa    FL                     M   \n",
       "3    Prater      740-555-0058    100  Tampa    FL                     M   \n",
       "5     Clark      704-777-0613    100  Tampa    FL                     M   \n",
       "\n",
       "   ValidStatesCode  \n",
       "0                1  \n",
       "1                1  \n",
       "2                1  \n",
       "3                1  \n",
       "5                1  "
      ]
     },
     "execution_count": 38,
     "metadata": {},
     "output_type": "execute_result"
    }
   ],
   "source": [
    "df1.head()"
   ]
  },
  {
   "cell_type": "code",
   "execution_count": null,
   "metadata": {},
   "outputs": [],
   "source": []
  }
 ],
 "metadata": {
  "kernelspec": {
   "display_name": "Python 3",
   "language": "python",
   "name": "python3"
  },
  "language_info": {
   "codemirror_mode": {
    "name": "ipython",
    "version": 3
   },
   "file_extension": ".py",
   "mimetype": "text/x-python",
   "name": "python",
   "nbconvert_exporter": "python",
   "pygments_lexer": "ipython3",
   "version": "3.8.8"
  }
 },
 "nbformat": 4,
 "nbformat_minor": 4
}
